{
 "cells": [
  {
   "cell_type": "code",
   "execution_count": null,
   "id": "230924b8",
   "metadata": {},
   "outputs": [],
   "source": [
    "print(\"Óla, mundo!\")"
   ]
  },
  {
   "cell_type": "code",
   "execution_count": null,
   "id": "63e7e21a",
   "metadata": {},
   "outputs": [],
   "source": [
    "nome = input(f\"Digite seu nome: \")\n",
    "print(\"Seu nome é\",nome)\n",
    "\n",
    "idade = int(input(f\" Diga sua idade: \"))\n",
    "print(\"Minha idade é\",idade)"
   ]
  },
  {
   "cell_type": "code",
   "execution_count": null,
   "id": "15f4856a",
   "metadata": {},
   "outputs": [],
   "source": [
    " #operadores aritméticos\n",
    "\n",
    "\"\"\" a difinição indica a seguint ordem como\n",
    "a correta: \n",
    "º Parênteses\n",
    "º Exponentes\n",
    "º Multiplicação e Divisão\n",
    "º Adição e Subtração\n",
    "º Igualdade\n",
    "\"\"\"\n",
    "# x = 10-5*2\n"
   ]
  },
  {
   "cell_type": "code",
   "execution_count": null,
   "id": "5418727c",
   "metadata": {},
   "outputs": [],
   "source": [
    "print (10 -5 * 2 )\n",
    "#resultado 0\n",
    "\n",
    "print((10 - 5 ) * 2) \n",
    "#resultado 10\n",
    "\n",
    "print(10 ** 2 * 2)\n",
    "# resultado 200\n",
    "\n",
    "print (10 ** (2 * 2))\n",
    "# resultado 10000\n",
    "\n",
    "print(10 / 2 * 4)\n",
    "# resultado 20.0"
   ]
  },
  {
   "cell_type": "code",
   "execution_count": null,
   "id": "3ff164e7",
   "metadata": {},
   "outputs": [],
   "source": [
    "p = 20\n",
    "r = 10\n",
    "print (p + r )\n",
    "print (p - r )\n",
    "print (p / r )\n",
    "print (p // r )"
   ]
  },
  {
   "cell_type": "code",
   "execution_count": null,
   "id": "29d07884",
   "metadata": {},
   "outputs": [],
   "source": [
    "                         # indentação \n",
    "\n",
    "    # programa de caixa eletrônico \n",
    "print(\"=-=-=\")\n",
    "print(\"Bem vindo ao banco Dev!\")\n",
    "print(\"=-=-=\")\n",
    "\n",
    "saldo = 1000\n",
    "print(f\"saldo atual é: R${saldo}\")\n",
    "\n",
    "def sacar(valor):\n",
    "    global saldo\n",
    "    if saldo >= valor:\n",
    "        saldo -= valor\n",
    "        print(f\"valor sacado: R${valor}\")\n",
    "    else:\n",
    "        print(\"saldo insuficiente\")\n",
    "\n",
    "def depositar(valor):\n",
    "    global saldo\n",
    "    saldo += valor\n",
    "    print(f\"Valor depositado: R${valor}\")\n",
    "\n",
    "depositar_valor = float(input(\"deposite o valor: \"))\n",
    "depositar(depositar_valor)\n",
    "\n",
    "sacar(500)\n",
    "\n",
    "print(f\"Saldo atual é de: R${saldo}\")\n",
    "\n",
    "print(\"=-=-=\")\n",
    "print(\"Obrigado por ser nosso cliente!\")\n",
    "print(\"=-=-=\")\n"
   ]
  },
  {
   "cell_type": "code",
   "execution_count": null,
   "id": "3b02e3e5",
   "metadata": {},
   "outputs": [],
   "source": [
    "                # programa de caixa eletrônico \n",
    "\n",
    "print(\"Bem-vindo ao caixa eletrônico!\")\n",
    "def sacar(valor):\n",
    "    saldo = 500\n",
    "\n",
    "    if saldo >= valor:\n",
    "        print(\"valor sacado!\")\n",
    "        print(\"retire o seu dinheiro na boca do caixa.\")\n",
    "    \n",
    "    print(\"obrigado por ser nosso cliente, tenha um bom dia!\")\n",
    "\n",
    "def depositar(valor):\n",
    "    saldo = 500\n",
    "\n",
    "    saldo += valor\n",
    "sacar(1000)"
   ]
  },
  {
   "cell_type": "code",
   "execution_count": null,
   "id": "b410849d",
   "metadata": {},
   "outputs": [],
   "source": [
    "             # estrutura condicionais\n",
    "\n",
    "# programa de caixa eletronico 1\n",
    "saldo = 2000\n",
    "saque = float(input(\"Informe o valor do saque:\"))\n",
    "\n",
    "if saldo >= saque:\n",
    "    print(\"Realizando saque!\")\n",
    "\n",
    "else:\n",
    "    print(\"saldo insuficiente!\")\n"
   ]
  },
  {
   "cell_type": "code",
   "execution_count": null,
   "id": "77e1f62c",
   "metadata": {},
   "outputs": [],
   "source": [
    "# proograma de caixa eletrônico 2\n",
    "print(\"Bem-vindo ao caixa eletrônico!\")\n",
    "print(\"Informe a opção desejada: \")\n",
    "print(\"1- sacar\")\n",
    "print(\"2- extrato\")\n",
    "print(\"4- sair\")\n",
    "\n",
    "opcao = int(input(\"Informe uma opção: \"))\n",
    "\n",
    "valor = 500\n",
    "\n",
    "if opcao == 1: \n",
    "    valor = float(input(\"Informe a quantia para o saque: \"))\n",
    "\n",
    "elif opcao == 2:\n",
    "    print(\"Exibindo extrato...\")   \n",
    "\n",
    "else:\n",
    "    print(\"Opção inválida, tente novamente!\")\n"
   ]
  },
  {
   "cell_type": "code",
   "execution_count": null,
   "id": "d47c98ac",
   "metadata": {},
   "outputs": [],
   "source": [
    "# programa de caixa eletrônico 3 \n",
    "\n",
    "conta_facil = True\n",
    "conta_salario = False\n",
    "\n",
    "conta_facil = False\n",
    "conta_salario = True\n",
    "conta_facil = False\n",
    "conta_salario = False\n",
    "\n",
    "saldo = 2000\n",
    "saque = 100\n",
    "chaque_especial = 400\n",
    "\n",
    "if conta_facil:\n",
    "    if saldo >= saque:\n",
    "        print(\"Saque realizado com sucesso\")\n",
    "    elif saque < (saldo + chaque_especial):\n",
    "        print(\"Saque realizado com cheque especial\")\n",
    "\n",
    "elif conta_salario:\n",
    "    if saldo >= saque:\n",
    "        print(\"Saque CS realizado com sucesso\")\n",
    "    else:\n",
    "        print(\"Saldo insuficiente, saque não realizado!\")   \n",
    "else:\n",
    "    print(\"Conta não identificada, entre em contato com seu gerente!\")\n"
   ]
  },
  {
   "cell_type": "code",
   "execution_count": null,
   "id": "35b0e5b9",
   "metadata": {},
   "outputs": [],
   "source": [
    "# programa de caixa eletrônico 4\n",
    "\n",
    "conta_facil = True\n",
    "conta_salario = False\n",
    "\n",
    "saldo = 2000\n",
    "saque = 100\n",
    "chaque_especial = 400\n",
    "\n",
    "if conta_facil:\n",
    "    if saldo >= saque:\n",
    "        print(\"Saque realizado com sucesso\")\n",
    "    elif saque < (saldo + chaque_especial):\n",
    "        print(\"Saque realizado com cheque especial\")\n",
    "\n",
    "elif conta_salario:\n",
    "    if saldo >= saque:\n",
    "        print(\"Saque CS realizado com sucesso\")\n",
    "    else:\n",
    "        print(\"Saldo insuficiente, saque não realizado!\")   \n",
    "else:\n",
    "    print(\"Conta não identificada, entre em contato com seu gerente!\")"
   ]
  },
  {
   "cell_type": "code",
   "execution_count": null,
   "id": "4629debc",
   "metadata": {},
   "outputs": [],
   "source": [
    "# estrutura ternaria, prorama de caixa eletrônico 5\n",
    "saldo = 2000\n",
    "saque = 1000\n",
    "\n",
    "status = \"Sucesso\" if saldo >= saque else \"Saldo insuficiente\"\n",
    "print(f\"{status} ao realizar o saque!\")\n",
    "\n"
   ]
  },
  {
   "cell_type": "code",
   "execution_count": null,
   "id": "2799bb5f",
   "metadata": {},
   "outputs": [],
   "source": [
    "# programa de tira cnh \n",
    "maior_idade = 18\n",
    "idoso = 60\n",
    "idade_especial = 15 # adicionei essa linha\n",
    "\n",
    "idade = int(input(\"Informe sua idade: \"))\n",
    "\n",
    "if idade >= maior_idade:\n",
    "    print(\"Você pode tirar a CNH!\")\n",
    "\n",
    "elif idade == idade_especial:\n",
    "    print(\"Você pode fazer aulas teóricas para a CNH, mas não pode tirar a CNH ainda!\")\n",
    "\n",
    "elif idade == idoso:\n",
    "    print(\"Você pode tirar a CNH, mas com restrições devido à sua idade avançada!\")\n",
    "\n",
    "else:\n",
    "    print(\"Você não pode tirar a CNH, ainda é menor de idade!\") \n"
   ]
  },
  {
   "cell_type": "code",
   "execution_count": null,
   "id": "51321b53",
   "metadata": {},
   "outputs": [],
   "source": [
    "    # Estrutura de repetição    \n",
    "\n",
    "# exemplo sem repetição \n",
    "a = int(input(\"informe um numero inteiro:\"))\n",
    "print(a)\n",
    "\n",
    "if a == 2 :\n",
    "    a += 1\n",
    "print(a) \n"
   ]
  },
  {
   "cell_type": "code",
   "execution_count": null,
   "id": "413555d7",
   "metadata": {},
   "outputs": [],
   "source": [
    "    # Estrutura de repetição  \n",
    "\n",
    "# exemplo com for\n",
    "texto = input(\"informe um texto: \")\n",
    "vogais = \"aeiou\"\n",
    "\n",
    "for letra in texto:\n",
    "    if letra.upper() in vogais:\n",
    "        print(letra, end=\"\")\n",
    "else:\n",
    "    print()"
   ]
  },
  {
   "cell_type": "code",
   "execution_count": null,
   "id": "7077ea43",
   "metadata": {},
   "outputs": [],
   "source": [
    "    # Estrutura de repetição \n",
    "\n",
    "# exemplo função range \n",
    "\n",
    "#range(stop) _> range object\n",
    "list(range(4))\n",
    "[0, 1, 2, 3]\n"
   ]
  },
  {
   "cell_type": "code",
   "execution_count": null,
   "id": "32d68cf8",
   "metadata": {},
   "outputs": [],
   "source": [
    "    # Estrutura de repetição \n",
    "\n",
    "#Utilizando range com for built-in  \n",
    "for numero in range(0, 51 ,5):\n",
    "    print(numero, end=\"\") #o end deixa tudo na mesma linha\n"
   ]
  },
  {
   "cell_type": "code",
   "execution_count": null,
   "id": "11887df9",
   "metadata": {},
   "outputs": [],
   "source": [
    "# exemplo com while, ate que a condição seja atendida\n",
    "print(\"Bem-vindo ao caixa eletrônico!\")\n",
    "opcao = -1\n",
    "while opcao != 0:\n",
    "    opcao = int(input(\"[1]- sacar \\n[2]- extrato \\n[0]-saindo \\n: \"))\n",
    "\n",
    "    if opcao == 1:\n",
    "        print(\"Sacando ...\")\n",
    "    elif opcao == 2:\n",
    "        print(\"Exibindo extrato ...\")\n",
    "print(\"Saindo ...\")\n"
   ]
  },
  {
   "cell_type": "code",
   "execution_count": null,
   "id": "f0e85f13",
   "metadata": {},
   "outputs": [],
   "source": [
    "# exemplo com while 2, usando o else\n",
    "print(\"Bem-vindo ao caixa eletrônico!\")\n",
    "opcao = -1\n",
    "while opcao != 0:\n",
    "    opcao = int(input(\"[1]- sacar \\n[2]- extrato \\n[0]-saindo \\n: \"))\n",
    "\n",
    "    if opcao == 1:\n",
    "        print(\"Sacando...\")\n",
    "    elif opcao == 2:\n",
    "        print(\"Exibindo extrato ...\")\n",
    "    else:\n",
    "        print(\"obrigado por usar nosso sistema bancário, tenha um bom dia!\")\n"
   ]
  },
  {
   "cell_type": "code",
   "execution_count": null,
   "id": "0aa9feb6",
   "metadata": {},
   "outputs": [],
   "source": [
    "# exemplo com while 4, usando break\n",
    "print(\"Bem-vindo ao caixa eletrônico!\")\n",
    "opcao = -1    \n",
    "while opcao !=0:\n",
    "    opcao = int(input(\"infome um nunero: \"))\n",
    "\n",
    "    if opcao == 10:\n",
    "        break\n",
    "\n",
    "    print(opcao) \n"
   ]
  },
  {
   "cell_type": "code",
   "execution_count": null,
   "id": "50f84f81",
   "metadata": {},
   "outputs": [],
   "source": [
    "# exemplo com while 5, usando break e True\n",
    "while True:\n",
    "    numero = int(input(\"informe um numero: \"))\n",
    "        \n",
    "    if numero == 10:\n",
    "        break\n",
    "        \n",
    "    print(numero)   \n"
   ]
  },
  {
   "cell_type": "code",
   "execution_count": null,
   "id": "7c8dc16e",
   "metadata": {},
   "outputs": [],
   "source": [
    "                        # classe string\n",
    "\n",
    "# exemplo de string\n",
    "nome = \"vando\"\n",
    "\n",
    "print(nome.upper()) # mone mauscula\n",
    "print(nome.lower()) # mome minuscula\n",
    "print(nome.title()) # nome no titulo"
   ]
  },
  {
   "cell_type": "code",
   "execution_count": null,
   "id": "2a5d6dd3",
   "metadata": {},
   "outputs": [],
   "source": [
    "# exemplo de string 2 eliminando espaços\n",
    "texto = \"   vando voce estuda python   \"    \n",
    "print(texto + \".\")  # adiciona ponto final\n",
    "print(texto.strip() + \".\")  # remove espaços no início e no final\n",
    "print(texto.lstrip() + \".\")  # remove espaços no início\n",
    "print(texto.rstrip() + \".\")  # remove espaços no final\n"
   ]
  },
  {
   "cell_type": "code",
   "execution_count": null,
   "id": "908f22f9",
   "metadata": {},
   "outputs": [],
   "source": [
    "# exemplo de string 3, junções e centralização\n",
    "curso = \"Python\"\n",
    "print(curso.center(20, \"*\"))  # centraliza com asteriscos\n",
    "print(curso.ljust(20, \"*\"))  # alinha à esquerda com asteriscos\n",
    "print(curso.rjust(20, \"*\"))  # alinha à direita com asteriscos      \n",
    "print(curso.center(20, \"#\"))  # centraliza com resteg\n",
    "print(\".\".join(curso))  # junta os caracteres com ponto caractere especiais #@!%$\n",
    "print(\" \".join(curso))  # junta os caracteres com espaço\n"
   ]
  },
  {
   "cell_type": "code",
   "execution_count": null,
   "id": "0ec637bf",
   "metadata": {},
   "outputs": [],
   "source": [
    "# exemplo de string 4, menu sem caracteres especiais\n",
    "menu = \"Eltec\"\n",
    "print(menu.center(14)) # centraliza o menu, mais sem o caractere especial\n",
    "print(menu.ljust(14))  # alinha à esquerda\n",
    "print(menu.rjust(14))  # alinha à direita       \n",
    "\n",
    "for letra in menu:\n",
    "    print(letra, end=\"-\")  # imprime cada letra com traço entre elas \n",
    "print()  # pula linha após o loop   \n"
   ]
  },
  {
   "cell_type": "code",
   "execution_count": null,
   "id": "1663400b",
   "metadata": {},
   "outputs": [],
   "source": [
    "#Interpolação com variaveis\n",
    "\n",
    "\"\"\" Old style % \"\"\"\n",
    "nome = \"Vando\"\n",
    "idade = 30     \n",
    "profissao = \"Programador\"\n",
    "linguagem = \"Python\"\n",
    "\n",
    "print(\"Meu nome é %s, tenho %d anos, sou %s e \" \\\n",
    "\"programo em %s.\" % (nome, idade, profissao, linguagem))\n",
    "\n",
    "\"\"\" New style {} \"\"\"        \n",
    "print(\"Meu nome é {}, tenho {} anos, sou {} e \" \\\n",
    "\"programo em {}.\".format(nome, idade, profissao, linguagem))    \n",
    "\n",
    "\"\"\" F-strings \"\"\"\n",
    "print(f\"Meu nome é {nome}, tenho {idade} anos, sou {profissao} e \\\n",
    "programo em {linguagem}.\") "
   ]
  },
  {
   "cell_type": "code",
   "execution_count": null,
   "id": "a3e2719e",
   "metadata": {},
   "outputs": [],
   "source": [
    "# exemplo de string 5, de strings com f-strings\n",
    "PI = 3.14159\n",
    "print(f\"Valor de PI: {PI:.2f}\")  # formata PI com 2 casas decimais 2f\n",
    "print(f\"Valor de PI: {PI:5.2f}\")  # formata PI com 2 casas decimais 2f e largura total de 5 caracteres\n"
   ]
  },
  {
   "cell_type": "code",
   "execution_count": null,
   "id": "56753e75",
   "metadata": {},
   "outputs": [],
   "source": [
    "# exemplo de string 6, de strings com fateamento \n",
    "nome = \"Vanderson\"\n",
    "idade = 30     \n",
    "profissao = \"Programador\"\n",
    "linguagem = \"Python\"\n",
    "\n",
    "dados = {nome, idade} # fomra de ultiliza a lista com string\n",
    "\n",
    "print(\"nome: %s idade: %s\" % (nome, idade))# nao é mas ultilizado dessa forma \n",
    "print(\"nome: {} idade: {}\".format(nome, idade))  # ultilizando o format\n",
    "print(f\"nome: {nome} idade: {idade}\")  # ultilizando o f-string\n",
    "print(f\"nome: {nome} idade: {idade}\".format(dados))#  ultiliza a lista com string\n"
   ]
  },
  {
   "cell_type": "code",
   "execution_count": null,
   "id": "2a8ebf07",
   "metadata": {},
   "outputs": [],
   "source": [
    "# exemplo de string 7, de strings com f-strings e fateamento    \n",
    "nome = \"Vanderson luiz\"\n",
    "print(nome[0])  # primeiro caractere \n",
    "print(nome[0:4])  # fatia do nome\n",
    "print(nome[9:])\n",
    "print(nome[12:])\n",
    "print(nome[10:10])\n",
    "print(nome[:])\n"
   ]
  },
  {
   "cell_type": "code",
   "execution_count": null,
   "id": "8c133c1e",
   "metadata": {},
   "outputs": [],
   "source": [
    "# strings triplas ou de multiplaslinhas \n",
    "\n",
    "nome = \"danoninho\"\n",
    "\n",
    "mensagem = f\"\"\"\n",
    "Olá meu nome é {nome}, \n",
    "Eu estou aprendendo Python\n",
    "\"\"\"\n",
    "print(mensagem)\n",
    "\n",
    "mensagem = f'''\n",
    "    Olá meu nome é {nome}, \n",
    "Eu estou aprendendo Python\n",
    "        E para conseguir uma vaga.\n",
    "'''\n",
    "print(mensagem)\n"
   ]
  },
  {
   "cell_type": "code",
   "execution_count": null,
   "id": "66b18a5e",
   "metadata": {},
   "outputs": [],
   "source": [
    "\"\"\"\n",
    "Operação de depósito\n",
    "Deve ser possivel depositar valores positivos para \n",
    "minha conta bancaria. A v1 do projeto trabalha apenas\n",
    "com 1 usuario, dessa forma não precisamos nos preocupar\n",
    "em identificar qual é o número da agencia e conta bancaria .\n",
    "Todos os depositos devem ser armazenados em uma variavel \n",
    "e exibidos na operação de extrato.\n",
    "\"\"\"\n",
    "\n",
    "\n",
    "\"\"\"\n",
    "Operação de saque\n",
    "O sistema deve permitir realizar 3 saques diarios com limite\n",
    "maximo de R$ 500,00 por saque. Caso o usuario nao tenha saldo\n",
    "em conta, o sistema deve exibir uma mensagem informando que \n",
    "não será possivel sacar o dinheiro por falta de\n",
    "saldo. Todos os saques devem ser armazenados em \n",
    "uma variavel e exibidos na operação de extrato.\n",
    "  limitie maximo = 1500,00\n",
    "\n",
    "\"\"\"\n",
    "\n",
    "\"\"\"\n",
    "Opelração de extrato\n",
    "Essa operação deve listar todos os depositos e saques\n",
    "realizados na conta. no fim da listagem deve ser \n",
    "exibido o saldo atual da conta.\n",
    "\n",
    "os valores deve ser exibidos utilizando o formato \n",
    "R$ xxx,xx\n",
    "exemplo: \n",
    "1500.45 = R$ 1.500,45\n",
    "\"\"\"\n",
    "\n",
    "\"\"\"Projeto sistema bancario\"\"\"\n",
    "menu = \"\"\"\n",
    "bem vindo ao sistema bancário!\n",
    "[1] - depositar\n",
    "[2] - sacar\n",
    "[3] - extrato\n",
    "[4] - sair  \n",
    "\n",
    "=>\"\"\"\n",
    "saldo = 0 \n",
    "limite = 500\n",
    "extrato = \"\"\n",
    "numero_saque = 0\n",
    "limite_saque = 3\n",
    "\n",
    "while True:\n",
    "    opcao = input()\n",
    "    if opcao == 1:\n",
    "        print(\"depositar\")\n",
    "    \n",
    "    elif opcao == 2:\n",
    "        print(\"sacar\")\n",
    "    \n",
    "    elif opcao == 3:\n",
    "        print(\"extrato\")\n",
    "\n",
    "    elif opcao == 4:\n",
    "        break\n",
    "    \n",
    "    else:\n",
    "        print(\"opção invalida, por favor selecione novamente a operação desejada.\")\n",
    "    "
   ]
  },
  {
   "cell_type": "code",
   "execution_count": null,
   "id": "a303b63e",
   "metadata": {},
   "outputs": [],
   "source": [
    " # a logica de prgramação \n",
    "\n",
    "# desafio da aula  Calculo salarial \n",
    "\n",
    "\"\"\"\n",
    "Para realizar o calculo receba o valor bruto do salario e o \n",
    "adicional dos beneficios.\n",
    "O salario a ser transformado é caculado da seguinte maneira: \n",
    "\n",
    "(valor bruto do salario - percentual de imposto mediante ao salario) + adicional dos beneficios\n",
    "Para calcular o percentual de imposto segue as aliquotas:\n",
    "\n",
    "de R$ 0.00 a R$ 1100.00 = 5.00%\n",
    "de R$ 1100.00 a R$ 2500.00 = 10.00%\n",
    "Maior que R$ 2500.00 = 15.00%\n",
    "\n",
    "\n",
    "# ENTRADA \n",
    "A entrada consiste em varios arquivos de teste, que conterá o VALOR BRUTO DO SALARIO e ADICIONAL DOS BENEFICIOS.\n",
    "Conforme mostrado no exemplo de entrada a seguir. \n",
    "\n",
    "# SAIDA \n",
    "Para cada arquivo da entrada, tera um arquivo de saida.  E como mencionado no desafi, \n",
    "sera gerado uma lina com um numero que sera a diferença entre o valor bruto do salario\n",
    "e o persentual de imposto mediante a faixa salarial somado com o adicional dos beneficios. \n",
    "\n",
    "Use o exemplo abaixo para clarear o que está sendo perdido.\n",
    "- input: lê uma linha com dados de entrada do usuario\n",
    "- print : imprimir um texto da sainda \n",
    "\"\"\"\n",
    "#função util para o calculo do imposto (baseado nas aliquotas).\n",
    "\n",
    "def calcular_imposto(salario):\n",
    "    aliquota = 0.00\n",
    "    if (salario >= 0 and salario <=1100):\n",
    "        aliquota = 0.05\n",
    "    elif(salario >= 1100 and salario <=2500):\n",
    "        aliquota = 0.10\n",
    "    else:\n",
    "        aliquota = 0.15\n",
    "        print(\"Maior que R$ 2500.00\")\n",
    "# TODO cria as demais condiçoes para as aliquotas de 10.00% e 15.00%\n",
    "        return aliquota * salario\n",
    "\n",
    "# lê os valores de Entrada:\n",
    "valor_salario = float(input())\n",
    "valor_beneficio = float(input())\n",
    "\n",
    "# calculo do imposto atraves da função calculo_imposto:\n",
    "valor_imposto = calcular_imposto(valor_salario)\n",
    "\n",
    "# calculo e imprimi a saida (com 2 casas decimais):\n",
    "saida = valor_salario - valor_imposto + valor_beneficio\n",
    "print(f\"{saida:.2f}\")\n"
   ]
  },
  {
   "cell_type": "code",
   "execution_count": null,
   "id": "6d31674e",
   "metadata": {},
   "outputs": [],
   "source": [
    "# segundo desafio, Eplorando operadores e manipulação de strings \n",
    "\n",
    "\"\"\"\n",
    "            Descrição\n",
    "\n",
    "Uma loja online deseja aplicar \n",
    "descontos em seus produtos com base em cupons de desconto digitados \n",
    "pelos clientes.\n",
    "\n",
    "             Regras de desconto:\n",
    "\n",
    "\"DESCONTO10\": 10% de desconto.\n",
    "\"DESCONTO20\": 20% de desconto.\n",
    "\"SEM_DESCONTO\": Sem desconto.\n",
    "\n",
    "             Entrada\n",
    "Preço original do produto.\n",
    "Código do cupom digitado.\n",
    "\n",
    "             Saída\n",
    "Preço final após aplicar o desconto. Com duas casas decimais.\n",
    "\n",
    "\"\"\"\n",
    "# Dicionário com os valores de desconto\n",
    "descontos = {\n",
    "    \"DESCONTO10\": 0.10,\n",
    "    \"DESCONTO20\": 0.20,\n",
    "    \"SEM_DESCONTO\": 0.00\n",
    "}\n",
    "\n",
    "# Entrada do usuário\n",
    "preco = float(input().strip())\n",
    "cupom = input().strip()\n",
    "\n",
    "# TODO: Aplique o desconto se o cupom for válido:\n"
   ]
  },
  {
   "cell_type": "code",
   "execution_count": null,
   "id": "0d7460da",
   "metadata": {},
   "outputs": [],
   "source": [
    "\"\"\"\n",
    "        Descrição\n",
    "Uma empresa quer validar se os e-mails cadastrados pelos usuários estão no formato correto. \n",
    "Crie uma função que receba um e-mail e verifique se ele é válido, seguindo as regras:\n",
    "\n",
    "    Regras para um e-mail válido:\n",
    "\n",
    "Deve conter o caractere \"@\" e um domínio, como gmail.com ou outlook.com.\n",
    "Não pode começar ou terminar com \"@\".\n",
    "Não pode conter espaços.\n",
    "Entrada\n",
    "Uma string contendo o e-mail a ser validado.\n",
    "Saída\n",
    "\"E-mail válido\" se o e-mail estiver no formato correto.\n",
    "\"E-mail inválido\" caso contrário.\n",
    "\n",
    "\"\"\"    \n",
    "# Entrada do usuário\n",
    "email = input().strip()\n",
    "\n",
    "# TODO: Verifique as regras do e-mail:\n"
   ]
  },
  {
   "cell_type": "code",
   "execution_count": null,
   "id": "ebf497cb",
   "metadata": {},
   "outputs": [],
   "source": [
    "# Modulos de aulas \n",
    "\n",
    "# começa com os LISTAS: Criação e acesso aos dados\n",
    "\n",
    "\"\"\"EXEMPLO\"\"\"\n",
    "\n",
    "frutas = [\"manga\", \"uva\", \"pera\"]\n",
    "print(frutas)\n",
    "\n",
    "frutas =[]\n",
    "print(frutas) \n",
    "\n",
    "letras = list (\"python\")\n",
    "print(letras)\n",
    "\n",
    "numeros = list(range(10))\n",
    "print(numeros)\n",
    "\n",
    "carro = [\"fusca\", \"fusca 1300\", \"1984\", \"120000\", \"15000\", \"recife\", True]\n",
    "print(carro)"
   ]
  },
  {
   "cell_type": "code",
   "execution_count": null,
   "id": "3424bd03",
   "metadata": {},
   "outputs": [],
   "source": [
    "# Lista aninhadas \n",
    "\"\"\"\n",
    "Lista podem armazenar todos os tipos de obetos python, portanto  \n",
    "podemos ter uma lista armazenam outras listas.\n",
    "Matriz\n",
    "\"\"\"\n",
    "\n",
    "matriz = [[1,\"a\", 2],\n",
    "          [\"b\",3 ,4],\n",
    "          [6, 5, \"c\"]\n",
    "        ]\n",
    "\n",
    "matriz = [0]\n",
    "print(matriz)\n",
    "matriz = [0][0]\n",
    "print(matriz)\n"
   ]
  },
  {
   "cell_type": "code",
   "execution_count": null,
   "id": "c92812e7",
   "metadata": {},
   "outputs": [
    {
     "name": "stdout",
     "output_type": "stream",
     "text": [
      "[1, 'python', [40, 30, 20]]\n"
     ]
    }
   ],
   "source": [
    "            # metodos da classe list \n",
    "\n",
    " # [] append \n",
    " # serve para adicionar lista\n",
    "lista = []\n",
    "\n",
    "lista.append(1)\n",
    "lista.append(\"python\")\n",
    "lista.append([40, 30, 20])\n",
    "\n",
    "print(lista) # os valores vao ser adicionado no fim da fila ou da lista "
   ]
  },
  {
   "cell_type": "code",
   "execution_count": null,
   "id": "47fc5fef",
   "metadata": {},
   "outputs": [
    {
     "name": "stdout",
     "output_type": "stream",
     "text": [
      "[1, 'python', [40, 30, 20]]\n",
      "None\n",
      "[]\n"
     ]
    }
   ],
   "source": [
    "# [] clear  \n",
    "\n",
    "# ele limpa a lista  \n",
    "lista = [1, \"python\", [40, 30, 20]]\n",
    "\n",
    "print(lista)\n",
    "\n",
    "print(lista.clear())\n",
    "\n",
    "print(lista)\n"
   ]
  },
  {
   "cell_type": "code",
   "execution_count": null,
   "id": "a3c424a6",
   "metadata": {},
   "outputs": [
    {
     "name": "stdout",
     "output_type": "stream",
     "text": [
      "[1, 'python', [40, 30, 20]]\n",
      "2109057365568 2109057372992\n",
      "[2, 'python', [40, 30, 20]]\n",
      "[1, 'python', [40, 30, 20]]\n"
     ]
    }
   ],
   "source": [
    "# [] copy \n",
    "lista = [1, \"python\", [40, 30, 20]] # lista original \n",
    "\n",
    "lista.copy()\n",
    "l2 = lista.copy()\n",
    "\n",
    "print(lista)\n",
    "print(id(l2), id(lista))\n",
    "\n",
    "# fazendo a copia sem altera o original \n",
    "l2[0] = 2\n",
    "print(l2)\n",
    "\n",
    "print(lista)"
   ]
  },
  {
   "cell_type": "code",
   "execution_count": 38,
   "id": "1bf74fbf",
   "metadata": {},
   "outputs": [
    {
     "name": "stdout",
     "output_type": "stream",
     "text": [
      "1\n",
      "2\n",
      "1\n",
      "1\n"
     ]
    }
   ],
   "source": [
    "# [] count \n",
    "# mostra quantidade do mesmo valor na lista \n",
    "cores = [\"vermelho\", \"azul\", \"verde\", \"azul\", \"laranja\"]\n",
    "\n",
    "print(cores.count(\"vermelho\"))\n",
    "\n",
    "print(cores.count(\"azul\"))\n",
    "\n",
    "print(cores.count(\"verde\"))\n",
    "\n",
    "print(cores.count(\"laranja\"))\n"
   ]
  },
  {
   "cell_type": "code",
   "execution_count": null,
   "id": "5e68d5f8",
   "metadata": {},
   "outputs": [
    {
     "name": "stdout",
     "output_type": "stream",
     "text": [
      "['python', 'js', 'c']\n",
      "['python', 'js', 'c', 'java', 'csharp']\n"
     ]
    }
   ],
   "source": [
    "# [] extend\n",
    " # usa essa função para junta lista sem precisa do APPEND\n",
    "\n",
    "linguagem = [\"python\", \"js\", \"c\"]\n",
    "print(linguagem)\n",
    "\n",
    "linguagem.extend([\"java\", \"csharp\"])\n",
    "print(linguagem)"
   ]
  },
  {
   "cell_type": "code",
   "execution_count": null,
   "id": "58cc5786",
   "metadata": {},
   "outputs": [
    {
     "name": "stdout",
     "output_type": "stream",
     "text": [
      "3\n",
      "0\n"
     ]
    }
   ],
   "source": [
    "# [] Index \n",
    "# ele mostra a primeira informação que solicita na lista \n",
    "\n",
    "linguagem = [\"python\", \"js\", \"c\", \"java\", \"csharp\"]\n",
    "\n",
    "print(linguagem.index(\"java\"))\n",
    "\n",
    "print(linguagem.index(\"python\"))"
   ]
  },
  {
   "cell_type": "code",
   "execution_count": null,
   "id": "b2d21097",
   "metadata": {},
   "outputs": [
    {
     "data": {
      "text/plain": [
       "'python'"
      ]
     },
     "execution_count": 73,
     "metadata": {},
     "output_type": "execute_result"
    }
   ],
   "source": [
    "# [] pop\n",
    "# essa é uma estrutura pilha, onde ele vai tira a primeira variavel adicionada \"csharp\"\n",
    "linguagem = [\"python\", \"js\", \"c\", \"java\", \"csharp\"]\n",
    "\n",
    "linguagem.pop() # primeiro adicionado\n",
    "linguagem.pop() # segundo adicionado \n",
    "linguagem.pop() # terceiro adicionado\n",
    "linguagem.pop(0)# ultimo adicionado\n",
    "\n"
   ]
  },
  {
   "cell_type": "code",
   "execution_count": null,
   "id": "42b90509",
   "metadata": {},
   "outputs": [
    {
     "name": "stdout",
     "output_type": "stream",
     "text": [
      "['python', 'js', 'java', 'csharp']\n"
     ]
    }
   ],
   "source": [
    "# [] remove \n",
    "# serve para remover da lista os objtos \n",
    "\n",
    "linguagem = [\"python\", \"js\", \"c\", \"java\", \"csharp\"]\n",
    "\n",
    "linguagem.remove(\"c\")\n",
    "print(linguagem)"
   ]
  },
  {
   "cell_type": "code",
   "execution_count": null,
   "id": "16c2eb98",
   "metadata": {},
   "outputs": [
    {
     "name": "stdout",
     "output_type": "stream",
     "text": [
      "['csharp', 'java', 'c', 'js', 'python']\n"
     ]
    }
   ],
   "source": [
    "# [] reverse \n",
    "#  ele coloca quem está em ultimo para o primerio \n",
    "\n",
    "linguagem = [\"python\", \"js\", \"c\", \"java\", \"csharp\"]\n",
    "\n",
    "linguagem.reverse()\n",
    "print(linguagem)"
   ]
  },
  {
   "cell_type": "code",
   "execution_count": null,
   "id": "6db1ef45",
   "metadata": {},
   "outputs": [
    {
     "name": "stdout",
     "output_type": "stream",
     "text": [
      "['c', 'csharp', 'java', 'js', 'python']\n",
      "['python', 'js', 'java', 'csharp', 'c']\n",
      "['c', 'js', 'java', 'python', 'csharp']\n",
      "['python', 'csharp', 'java', 'js', 'c']\n"
     ]
    }
   ],
   "source": [
    "# [] sort \n",
    "# ele vai deixa ela ordenada alfaberticamente a minha lista \n",
    "\n",
    "linguagem = [\"python\", \"js\", \"c\", \"java\", \"csharp\"]\n",
    "linguagem.sort()\n",
    "print(linguagem)\n",
    "\n",
    "linguagem = [\"python\", \"js\", \"c\", \"java\", \"csharp\"]\n",
    "linguagem.sort(reverse=True)# o reverse ele ordena, mas tambem faz o espelhamento \n",
    "print(linguagem)\n",
    "\n",
    "linguagem = [\"python\", \"js\", \"c\", \"java\", \"csharp\"]\n",
    "linguagem.sort(key= lambda x: len(x))# vai deixa a lista em ordem crescente do maior para o menor lembrando o tamanho da string\n",
    "print(linguagem)# o lambda é uma função anomina, e o X é o argumento que tem na lista \n",
    "\n",
    "linguagem = [\"python\", \"js\", \"c\", \"java\", \"csharp\"]\n",
    "linguagem.sort(key= lambda x: len(x), reverse=True)\n",
    "print(linguagem)\n"
   ]
  },
  {
   "cell_type": "code",
   "execution_count": null,
   "id": "05f38713",
   "metadata": {},
   "outputs": [
    {
     "data": {
      "text/plain": [
       "5"
      ]
     },
     "execution_count": 9,
     "metadata": {},
     "output_type": "execute_result"
    }
   ],
   "source": [
    "# len \n",
    "# ela ver a quantidade que minha lista tem \n",
    "\n",
    "linguagem = [\"python\", \"js\", \"c\", \"java\", \"csharp\"]\n",
    "\n",
    "len(linguagem)\n"
   ]
  },
  {
   "cell_type": "code",
   "execution_count": 10,
   "id": "931dea8c",
   "metadata": {},
   "outputs": [
    {
     "name": "stdout",
     "output_type": "stream",
     "text": [
      "['c', 'csharp', 'java', 'js', 'python']\n"
     ]
    }
   ],
   "source": [
    "#[] sorted \n",
    "# é uma função que serve para ordena literais \n",
    "linguagem = [\"python\", \"js\", \"c\", \"java\", \"csharp\"]\n",
    "\n",
    "sorted(linguagem, key= lambda x: len(x))\n",
    "sorted(linguagem, key= lambda x: len(x), reverse=True)\n",
    "\n",
    "print(sorted(linguagem))"
   ]
  },
  {
   "cell_type": "code",
   "execution_count": null,
   "id": "348b8ed8",
   "metadata": {},
   "outputs": [
    {
     "data": {
      "text/plain": [
       "[0, 2, 4, 6, 64]"
      ]
     },
     "execution_count": 11,
     "metadata": {},
     "output_type": "execute_result"
    }
   ],
   "source": [
    "[n**2 if n > 6 else n for n in range(10) if n % 2 == 0]\n",
    "\n",
    "\"\"\"\n",
    "for n in range(10) → Vai gerar n de 0 até 9.\n",
    "\n",
    "if n % 2 == 0 → Filtro externo: só pega números pares.\n",
    "\n",
    "n**2 if n > 6 else n → Condição interna:\n",
    "\n",
    "Se n > 6, retorna n²\n",
    "\n",
    "Caso contrário, retorna n como está.\n",
    "\n",
    "2️⃣ Etapas da execução\n",
    "\n",
    "Gera números de 0 a 9.\n",
    "\n",
    "Filtra apenas os pares (if n % 2 == 0).\n",
    "→ Lista intermediária: [0, 2, 4, 6, 8]\n",
    "\n",
    "Para cada número dessa lista:\n",
    "\n",
    "Se n > 6, retorna o quadrado de n.\n",
    "\n",
    "Caso contrário, retorna o próprio n.\n",
    "\n",
    "3️⃣ Resultado final\n",
    "\n",
    "Vamos calcular:\n",
    "\n",
    "0 → 0 > 6? ❌ → fica 0\n",
    "\n",
    "2 → 2 > 6? ❌ → fica 2\n",
    "\n",
    "4 → 4 > 6? ❌ → fica 4\n",
    "\n",
    "6 → 6 > 6? ❌ → fica 6\n",
    "\n",
    "8 → 8 > 6? ✅ → 8**2 = 64\n",
    "\"\"\""
   ]
  },
  {
   "cell_type": "code",
   "execution_count": null,
   "id": "015fa8ac",
   "metadata": {},
   "outputs": [],
   "source": [
    "                    #  Tuplas \n",
    "\" Objetivo Geral \"\n",
    "\"\"\"Entender o funcionamento da estrutura de dados tuplas \"\"\""
   ]
  },
  {
   "cell_type": "code",
   "execution_count": null,
   "id": "0a7dd1e1",
   "metadata": {},
   "outputs": [
    {
     "name": "stdout",
     "output_type": "stream",
     "text": [
      "('laranja', 'pera', 'uva')\n",
      "('p', 'y', 't', 'h', 'o', 'n')\n",
      "(1, 2, 3, 4)\n",
      "('brasil',)\n"
     ]
    }
   ],
   "source": [
    "# Exemplo 1\n",
    "# é bom usa a virgular após  o objeto dentro da funçao\n",
    "\n",
    "frutas = (\"laranja\", \"pera\", \"uva\",\"melao\",)\n",
    "print(frutas)\n",
    "\n",
    "letras = tuple(\"python\")\n",
    "print(letras)\n",
    "\n",
    "numeros = tuple([1, 2, 3, 4])\n",
    "print(numeros)\n",
    "\n",
    "pais = (\"brasil\",)\n",
    "print(pais)"
   ]
  },
  {
   "cell_type": "code",
   "execution_count": 19,
   "id": "1615a70f",
   "metadata": {},
   "outputs": [
    {
     "data": {
      "text/plain": [
       "'uva'"
      ]
     },
     "execution_count": 19,
     "metadata": {},
     "output_type": "execute_result"
    }
   ],
   "source": [
    "# Exemplo 2\n",
    "\n",
    "frutas = (\"laranja\", \"pera\", \"uva\",\"melao\",)\n",
    "frutas[0] # index \n",
    "frutas[2] # index"
   ]
  },
  {
   "cell_type": "code",
   "execution_count": 20,
   "id": "eeb0bdc3",
   "metadata": {},
   "outputs": [
    {
     "data": {
      "text/plain": [
       "'pera'"
      ]
     },
     "execution_count": 20,
     "metadata": {},
     "output_type": "execute_result"
    }
   ],
   "source": [
    "# Exemplo 3 com idex negativo \n",
    "\n",
    "frutas = (\"laranja\", \"pera\", \"uva\",\"melao\",)\n",
    "frutas[-1] # index \n",
    "frutas[-3] # index"
   ]
  },
  {
   "cell_type": "code",
   "execution_count": 30,
   "id": "b4e33be1",
   "metadata": {},
   "outputs": [
    {
     "data": {
      "text/plain": [
       "'c'"
      ]
     },
     "execution_count": 30,
     "metadata": {},
     "output_type": "execute_result"
    }
   ],
   "source": [
    "# exemplo 4 a mesma coisa de lista \n",
    "\n",
    "matriz = ( \n",
    "    (1,\"a\", 2),\n",
    "    (\"b\",3 ,4),\n",
    "    (6, 5, \"c\")\n",
    ")\n",
    "\n",
    "matriz[0]\n",
    "#resultado = 1,\"a\", 2\n",
    "\n",
    "matriz[0][0]\n",
    "#resultado = 1\n",
    "\n",
    "matriz[0][-1]\n",
    "#resultado = 2\n",
    "\n",
    "matriz[-1][-1]\n",
    "#resultado = c\n"
   ]
  },
  {
   "cell_type": "code",
   "execution_count": 1,
   "id": "af19ee65",
   "metadata": {},
   "outputs": [
    {
     "data": {
      "text/plain": [
       "('o', 'd', 'n', 'a', 'v')"
      ]
     },
     "execution_count": 1,
     "metadata": {},
     "output_type": "execute_result"
    }
   ],
   "source": [
    "# FATEAMENTO DE TUPLA\n",
    "tupla = (\"v\", \"a\", \"n\", \"d\", \"o\",)\n",
    "\n",
    "tupla[2:]\n",
    "tupla[:2]\n",
    "tupla[1:3]\n",
    "tupla[0:3:2]\n",
    "tupla[:]\n",
    "tupla[::-1]\n"
   ]
  },
  {
   "cell_type": "code",
   "execution_count": null,
   "id": "00a3e6c2",
   "metadata": {},
   "outputs": [],
   "source": [
    "#(), count\n",
    "cores = (\"vermelho\", \"azul\", \"verde\", \"azul\", \"laranja\",)\n",
    "\n",
    "print(cores.count(\"vermelho\"))\n",
    "\n",
    "print(cores.count(\"azul\"))\n",
    "\n",
    "print(cores.count(\"verde\"))\n",
    "\n",
    "print(cores.count(\"laranja\"))\n",
    "\n"
   ]
  },
  {
   "cell_type": "code",
   "execution_count": null,
   "id": "9b151541",
   "metadata": {},
   "outputs": [
    {
     "name": "stdout",
     "output_type": "stream",
     "text": [
      "3\n",
      "0\n"
     ]
    }
   ],
   "source": [
    "#()index\n",
    "\n",
    "linguagem = (\"python\", \"js\", \"c\", \"java\", \"csharp\",)\n",
    "\n",
    "print(linguagem.index(\"java\"))\n",
    "\n",
    "print(linguagem.index(\"python\"))"
   ]
  },
  {
   "cell_type": "code",
   "execution_count": null,
   "id": "081ae494",
   "metadata": {},
   "outputs": [],
   "source": [
    "#()len\n",
    "linguagem = (\"python\", \"js\", \"c\", \"java\", \"csharp\",)\n",
    "\n",
    "len(linguagem)\n"
   ]
  },
  {
   "cell_type": "code",
   "execution_count": null,
   "id": "58503f5f",
   "metadata": {},
   "outputs": [],
   "source": [
    "# Conjuntos\n",
    "\"\"\"\n",
    "    Criando sets\n",
    "um set é uma coleção que não possui objetos\n",
    "repetido, usamos sets para representar conhuntos \n",
    "matematicos ou eliminar itnes duplicados de um iteravel  \n",
    "\"\"\""
   ]
  },
  {
   "cell_type": "code",
   "execution_count": 7,
   "id": "a10416cf",
   "metadata": {},
   "outputs": [
    {
     "name": "stdout",
     "output_type": "stream",
     "text": [
      "{1, 2, 3, 4}\n",
      "{'n', 'j', 'l', 'a', 'r'}\n",
      "{'palio', 'gol', 'celta'}\n",
      "{'python', 'java'}\n"
     ]
    }
   ],
   "source": [
    "# Exemplo 1 \n",
    "numeros = set([1,2,3,1,2,3,4])\n",
    "print(numeros)\n",
    "\n",
    "letras = set(\"laranja\")\n",
    "print(letras)\n",
    "\n",
    "carros = set((\"palio\", \"gol\", \"celta\", \"palio\"))\n",
    "print(carros)\n",
    "\n",
    "linguagem = {\"python\", \"java\", \"python\"}\n",
    "print (linguagem)"
   ]
  },
  {
   "cell_type": "code",
   "execution_count": 9,
   "id": "f2bd6bd7",
   "metadata": {},
   "outputs": [
    {
     "data": {
      "text/plain": [
       "1"
      ]
     },
     "execution_count": 9,
     "metadata": {},
     "output_type": "execute_result"
    }
   ],
   "source": [
    "# para ler dados do SET, presa converter em uma lista\n",
    "# emeplo \n",
    "\n",
    "numeros = {1,2, 3, 2}\n",
    "numeros = list(numeros)\n",
    "numeros[0]"
   ]
  },
  {
   "cell_type": "code",
   "execution_count": null,
   "id": "6d9d09a0",
   "metadata": {},
   "outputs": [],
   "source": []
  },
  {
   "cell_type": "code",
   "execution_count": null,
   "id": "6ee2c08e",
   "metadata": {},
   "outputs": [],
   "source": []
  },
  {
   "cell_type": "code",
   "execution_count": null,
   "id": "8fa3f3b9",
   "metadata": {},
   "outputs": [],
   "source": []
  },
  {
   "cell_type": "code",
   "execution_count": null,
   "id": "a816784e",
   "metadata": {},
   "outputs": [],
   "source": []
  },
  {
   "cell_type": "code",
   "execution_count": null,
   "id": "2147061b",
   "metadata": {},
   "outputs": [],
   "source": []
  },
  {
   "cell_type": "code",
   "execution_count": null,
   "id": "ec66d28d",
   "metadata": {},
   "outputs": [],
   "source": []
  },
  {
   "cell_type": "code",
   "execution_count": null,
   "id": "6df3c49c",
   "metadata": {},
   "outputs": [],
   "source": []
  },
  {
   "cell_type": "code",
   "execution_count": null,
   "id": "c05ab92a",
   "metadata": {},
   "outputs": [],
   "source": []
  },
  {
   "cell_type": "code",
   "execution_count": null,
   "id": "22aedd61",
   "metadata": {},
   "outputs": [],
   "source": []
  },
  {
   "cell_type": "code",
   "execution_count": null,
   "id": "97d55ddd",
   "metadata": {},
   "outputs": [],
   "source": []
  },
  {
   "cell_type": "code",
   "execution_count": null,
   "id": "f67814a8",
   "metadata": {},
   "outputs": [],
   "source": []
  },
  {
   "cell_type": "code",
   "execution_count": null,
   "id": "ea1942dd",
   "metadata": {},
   "outputs": [],
   "source": []
  },
  {
   "cell_type": "code",
   "execution_count": null,
   "id": "7c1eb749",
   "metadata": {},
   "outputs": [],
   "source": []
  },
  {
   "cell_type": "code",
   "execution_count": null,
   "id": "48130862",
   "metadata": {},
   "outputs": [],
   "source": []
  },
  {
   "cell_type": "code",
   "execution_count": null,
   "id": "05e18831",
   "metadata": {},
   "outputs": [],
   "source": []
  },
  {
   "cell_type": "code",
   "execution_count": null,
   "id": "ca25ea0b",
   "metadata": {},
   "outputs": [],
   "source": []
  },
  {
   "cell_type": "code",
   "execution_count": null,
   "id": "e7e53056",
   "metadata": {},
   "outputs": [],
   "source": []
  },
  {
   "cell_type": "code",
   "execution_count": null,
   "id": "b0234784",
   "metadata": {},
   "outputs": [],
   "source": []
  }
 ],
 "metadata": {
  "kernelspec": {
   "display_name": "Python 3",
   "language": "python",
   "name": "python3"
  },
  "language_info": {
   "codemirror_mode": {
    "name": "ipython",
    "version": 3
   },
   "file_extension": ".py",
   "mimetype": "text/x-python",
   "name": "python",
   "nbconvert_exporter": "python",
   "pygments_lexer": "ipython3",
   "version": "3.11.9"
  }
 },
 "nbformat": 4,
 "nbformat_minor": 5
}
